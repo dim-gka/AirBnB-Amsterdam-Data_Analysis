{
  "nbformat": 4,
  "nbformat_minor": 0,
  "metadata": {
    "colab": {
      "name": "MLP_Regressor.ipynb",
      "provenance": []
    },
    "kernelspec": {
      "name": "python3",
      "display_name": "Python 3"
    },
    "language_info": {
      "name": "python"
    }
  },
  "cells": [
    {
      "cell_type": "code",
      "metadata": {
        "id": "n53h6UdWgiG-"
      },
      "source": [
        "import numpy as np \n",
        "import pandas as pd\n",
        "\n",
        "df = pd.read_csv(\"Model_2.csv\", delimiter = \",\" , engine = \"python\", encoding = \"utf-8\", error_bad_lines = False)"
      ],
      "execution_count": 1,
      "outputs": []
    },
    {
      "cell_type": "code",
      "metadata": {
        "id": "rxxn_DXGidZg"
      },
      "source": [
        "df = pd.get_dummies(df , columns=[\"room_type\", \"host_is_superhost\",\"host_has_profile_pic\",\t\"host_identity_verified\", \"instant_bookable\",\"neighbourhood_cleansed\"])"
      ],
      "execution_count": 2,
      "outputs": []
    },
    {
      "cell_type": "code",
      "metadata": {
        "id": "riROZ_3BhM2q"
      },
      "source": [
        "data = df.drop([\"price\"],axis=1)\n",
        "target = df['price']"
      ],
      "execution_count": 3,
      "outputs": []
    },
    {
      "cell_type": "code",
      "metadata": {
        "colab": {
          "base_uri": "https://localhost:8080/"
        },
        "id": "p2uCwkLJhagW",
        "outputId": "f3c4271f-f52a-450b-ebd9-9fc2ce0a747d"
      },
      "source": [
        "from sklearn.model_selection import train_test_split\n",
        "\n",
        "x_train, x_test, y_train, y_test = train_test_split(data, target, test_size=0.4, random_state=1)\n",
        "\n",
        "print(x_train.shape)\n",
        "print(y_train.shape)\n",
        "print(x_test.shape)\n",
        "print(y_test.shape)"
      ],
      "execution_count": 6,
      "outputs": [
        {
          "output_type": "stream",
          "text": [
            "(10593, 43)\n",
            "(10593,)\n",
            "(7063, 43)\n",
            "(7063,)\n"
          ],
          "name": "stdout"
        }
      ]
    },
    {
      "cell_type": "code",
      "metadata": {
        "colab": {
          "base_uri": "https://localhost:8080/",
          "height": 86
        },
        "id": "SaUCmfsnJ2-o",
        "outputId": "51d35de5-41d1-4e05-ed1f-a1498d2fa834"
      },
      "source": [
        "df.head(0)"
      ],
      "execution_count": 5,
      "outputs": [
        {
          "output_type": "execute_result",
          "data": {
            "text/html": [
              "<div>\n",
              "<style scoped>\n",
              "    .dataframe tbody tr th:only-of-type {\n",
              "        vertical-align: middle;\n",
              "    }\n",
              "\n",
              "    .dataframe tbody tr th {\n",
              "        vertical-align: top;\n",
              "    }\n",
              "\n",
              "    .dataframe thead th {\n",
              "        text-align: right;\n",
              "    }\n",
              "</style>\n",
              "<table border=\"1\" class=\"dataframe\">\n",
              "  <thead>\n",
              "    <tr style=\"text-align: right;\">\n",
              "      <th></th>\n",
              "      <th>latitude</th>\n",
              "      <th>longitude</th>\n",
              "      <th>accommodates</th>\n",
              "      <th>bedrooms</th>\n",
              "      <th>beds</th>\n",
              "      <th>price</th>\n",
              "      <th>minimum_nights</th>\n",
              "      <th>minimum_minimum_nights</th>\n",
              "      <th>reviews_per_month</th>\n",
              "      <th>amenities_number</th>\n",
              "      <th>room_type_Entire home/apt</th>\n",
              "      <th>room_type_Hotel room</th>\n",
              "      <th>room_type_Private room</th>\n",
              "      <th>room_type_Shared room</th>\n",
              "      <th>host_is_superhost_f</th>\n",
              "      <th>host_is_superhost_t</th>\n",
              "      <th>host_has_profile_pic_f</th>\n",
              "      <th>host_has_profile_pic_t</th>\n",
              "      <th>host_identity_verified_f</th>\n",
              "      <th>host_identity_verified_t</th>\n",
              "      <th>instant_bookable_f</th>\n",
              "      <th>instant_bookable_t</th>\n",
              "      <th>neighbourhood_cleansed_Bijlmer-Centrum</th>\n",
              "      <th>neighbourhood_cleansed_Bijlmer-Oost</th>\n",
              "      <th>neighbourhood_cleansed_Bos en Lommer</th>\n",
              "      <th>neighbourhood_cleansed_Buitenveldert - Zuidas</th>\n",
              "      <th>neighbourhood_cleansed_Centrum-Oost</th>\n",
              "      <th>neighbourhood_cleansed_Centrum-West</th>\n",
              "      <th>neighbourhood_cleansed_De Aker - Nieuw Sloten</th>\n",
              "      <th>neighbourhood_cleansed_De Baarsjes - Oud-West</th>\n",
              "      <th>neighbourhood_cleansed_De Pijp - Rivierenbuurt</th>\n",
              "      <th>neighbourhood_cleansed_Gaasperdam - Driemond</th>\n",
              "      <th>neighbourhood_cleansed_Geuzenveld - Slotermeer</th>\n",
              "      <th>neighbourhood_cleansed_IJburg - Zeeburgereiland</th>\n",
              "      <th>neighbourhood_cleansed_Noord-Oost</th>\n",
              "      <th>neighbourhood_cleansed_Noord-West</th>\n",
              "      <th>neighbourhood_cleansed_Oostelijk Havengebied - Indische Buurt</th>\n",
              "      <th>neighbourhood_cleansed_Osdorp</th>\n",
              "      <th>neighbourhood_cleansed_Oud-Noord</th>\n",
              "      <th>neighbourhood_cleansed_Oud-Oost</th>\n",
              "      <th>neighbourhood_cleansed_Slotervaart</th>\n",
              "      <th>neighbourhood_cleansed_Watergraafsmeer</th>\n",
              "      <th>neighbourhood_cleansed_Westerpark</th>\n",
              "      <th>neighbourhood_cleansed_Zuid</th>\n",
              "    </tr>\n",
              "  </thead>\n",
              "  <tbody>\n",
              "  </tbody>\n",
              "</table>\n",
              "</div>"
            ],
            "text/plain": [
              "Empty DataFrame\n",
              "Columns: [latitude, longitude, accommodates, bedrooms, beds, price, minimum_nights, minimum_minimum_nights, reviews_per_month, amenities_number, room_type_Entire home/apt, room_type_Hotel room, room_type_Private room, room_type_Shared room, host_is_superhost_f, host_is_superhost_t, host_has_profile_pic_f, host_has_profile_pic_t, host_identity_verified_f, host_identity_verified_t, instant_bookable_f, instant_bookable_t, neighbourhood_cleansed_Bijlmer-Centrum, neighbourhood_cleansed_Bijlmer-Oost, neighbourhood_cleansed_Bos en Lommer, neighbourhood_cleansed_Buitenveldert - Zuidas, neighbourhood_cleansed_Centrum-Oost, neighbourhood_cleansed_Centrum-West, neighbourhood_cleansed_De Aker - Nieuw Sloten, neighbourhood_cleansed_De Baarsjes - Oud-West, neighbourhood_cleansed_De Pijp - Rivierenbuurt, neighbourhood_cleansed_Gaasperdam - Driemond, neighbourhood_cleansed_Geuzenveld - Slotermeer, neighbourhood_cleansed_IJburg - Zeeburgereiland, neighbourhood_cleansed_Noord-Oost, neighbourhood_cleansed_Noord-West, neighbourhood_cleansed_Oostelijk Havengebied - Indische Buurt, neighbourhood_cleansed_Osdorp, neighbourhood_cleansed_Oud-Noord, neighbourhood_cleansed_Oud-Oost, neighbourhood_cleansed_Slotervaart, neighbourhood_cleansed_Watergraafsmeer, neighbourhood_cleansed_Westerpark, neighbourhood_cleansed_Zuid]\n",
              "Index: []"
            ]
          },
          "metadata": {
            "tags": []
          },
          "execution_count": 5
        }
      ]
    },
    {
      "cell_type": "code",
      "metadata": {
        "id": "P0DwgxNuheYU"
      },
      "source": [
        "from sklearn.metrics import mean_absolute_error"
      ],
      "execution_count": 9,
      "outputs": []
    },
    {
      "cell_type": "markdown",
      "metadata": {
        "id": "i5o-xuGKhn0f"
      },
      "source": [
        "### MLP\n",
        "A set of experiments is made regarding the number of hidden layers, the number of hidden neurons in each hidden layer, the learing rate type and the activation function.\n",
        "\n",
        "Input layer size = 43.\n",
        "Output layer size = 1.\n",
        "The number of hidden layers size is chosen between 1 and 43. Specifically the neurons in hidden layers are 3, 6, 9, 12,..., 32 (a specific in each experiment).\n",
        "\n",
        "Hidden layers number is 1, 2 or 3. Each hidden layer has the same number of neurons.\n",
        "\n",
        "The learning rate is chosen to be either constant(default) or adaptive.\n",
        "\n",
        "RelU (default), identity, logistic and tanh are tested as activation functions.\n",
        "\n",
        "The early stopping method is used in order to avoid data overfitting.\n",
        "\n",
        "In total, 264 models are examined and the architecture and performance of the best one is returned."
      ]
    },
    {
      "cell_type": "code",
      "metadata": {
        "id": "gg390Cz0iDF0"
      },
      "source": [
        "from sklearn.neural_network import MLPRegressor"
      ],
      "execution_count": 7,
      "outputs": []
    },
    {
      "cell_type": "code",
      "metadata": {
        "colab": {
          "base_uri": "https://localhost:8080/"
        },
        "id": "Gc3JNup5iIUu",
        "outputId": "620e2fde-f561-449a-84c6-d66aaf53a88a"
      },
      "source": [
        "n = [3, 6, 9, 12, 15, 18, 21, 23, 26, 29, 32]  # number of neurons in hidden layer\n",
        "hidden_layer_sizes_ = []\n",
        "for i in range(len(n)):\n",
        "  hidden_layer_sizes_.append( (n[i]) )\n",
        "  hidden_layer_sizes_.append( (n[i],n[i]) )\n",
        "  hidden_layer_sizes_.append( (n[i],n[i],n[i]) )\n",
        "  \n",
        "best_model = [0, 0, '.', '.', 100000]\n",
        "activation_ = [ \"relu\", \"identity\", \"logistic\", \"tanh\"]\n",
        "\n",
        "\n",
        "for j in range( len(activation_) ):\n",
        "\n",
        "  for i in range( len(hidden_layer_sizes_)):\n",
        "\n",
        "    hidden_layers = hidden_layer_sizes_[i] \n",
        "    if i % 3 == 0:\n",
        "      l = 1\n",
        "      n = hidden_layers\n",
        "    else:\n",
        "      l = len(hidden_layers)\n",
        "      n = hidden_layers[0]\n",
        "\n",
        "    \n",
        "    # constant learning rate\n",
        "    MLP = MLPRegressor(hidden_layer_sizes = hidden_layers, early_stopping = True, activation = activation_[j])\n",
        "    MLP.fit(x_train,y_train)\n",
        "    y_pred_MLP = MLP.predict(x_test)\n",
        "    MAE = mean_absolute_error(y_test, y_pred_MLP)\n",
        "    if MAE < best_model[4]:\n",
        "      best_model = [l , n, 'constant', activation_[j], MAE]\n",
        "  \n",
        "    # adaptive learning rate\n",
        "    MLP2 = MLPRegressor(hidden_layer_sizes = hidden_layers, early_stopping = True, learning_rate = 'adaptive', activation = activation_[j])\n",
        "    MLP2.fit(x_train,y_train)\n",
        "    y_pred_MLP2 = MLP2.predict(x_test)\n",
        "    MAE2 = mean_absolute_error(y_test, y_pred_MLP2)\n",
        "    if MAE2 < best_model[4]:\n",
        "      best_model = [l , n, 'adaptive', activation_[j], MAE2]\n",
        "\n",
        "    #print('hidden layers = {}, neurons = {},  learning rate = constant, activation = {}, MAE = {:.2f}'.format( l, n, activation_[j], MAE ))\n",
        "    #print('hidden layers = {}, neurons = {},  learning rate = adaptive, activation = {}, MAE = {:.2f}'.format( l, n, activation_[j], MAE2 ))  \n",
        "\n",
        "\n",
        "print('\\n')\n",
        "print('Best model: hidden layers = {}, neurons = {}, learning rate = {}, activation function = {}, MAE = {}'.format(best_model[0], best_model[1], best_model[2], best_model[3], best_model[4]))\n"
      ],
      "execution_count": 10,
      "outputs": [
        {
          "output_type": "stream",
          "text": [
            "/usr/local/lib/python3.7/dist-packages/sklearn/neural_network/_multilayer_perceptron.py:571: ConvergenceWarning: Stochastic Optimizer: Maximum iterations (200) reached and the optimization hasn't converged yet.\n",
            "  % self.max_iter, ConvergenceWarning)\n",
            "/usr/local/lib/python3.7/dist-packages/sklearn/neural_network/_multilayer_perceptron.py:571: ConvergenceWarning: Stochastic Optimizer: Maximum iterations (200) reached and the optimization hasn't converged yet.\n",
            "  % self.max_iter, ConvergenceWarning)\n",
            "/usr/local/lib/python3.7/dist-packages/sklearn/neural_network/_multilayer_perceptron.py:571: ConvergenceWarning: Stochastic Optimizer: Maximum iterations (200) reached and the optimization hasn't converged yet.\n",
            "  % self.max_iter, ConvergenceWarning)\n",
            "/usr/local/lib/python3.7/dist-packages/sklearn/neural_network/_multilayer_perceptron.py:571: ConvergenceWarning: Stochastic Optimizer: Maximum iterations (200) reached and the optimization hasn't converged yet.\n",
            "  % self.max_iter, ConvergenceWarning)\n",
            "/usr/local/lib/python3.7/dist-packages/sklearn/neural_network/_multilayer_perceptron.py:571: ConvergenceWarning: Stochastic Optimizer: Maximum iterations (200) reached and the optimization hasn't converged yet.\n",
            "  % self.max_iter, ConvergenceWarning)\n",
            "/usr/local/lib/python3.7/dist-packages/sklearn/neural_network/_multilayer_perceptron.py:571: ConvergenceWarning: Stochastic Optimizer: Maximum iterations (200) reached and the optimization hasn't converged yet.\n",
            "  % self.max_iter, ConvergenceWarning)\n",
            "/usr/local/lib/python3.7/dist-packages/sklearn/neural_network/_multilayer_perceptron.py:571: ConvergenceWarning: Stochastic Optimizer: Maximum iterations (200) reached and the optimization hasn't converged yet.\n",
            "  % self.max_iter, ConvergenceWarning)\n",
            "/usr/local/lib/python3.7/dist-packages/sklearn/neural_network/_multilayer_perceptron.py:571: ConvergenceWarning: Stochastic Optimizer: Maximum iterations (200) reached and the optimization hasn't converged yet.\n",
            "  % self.max_iter, ConvergenceWarning)\n",
            "/usr/local/lib/python3.7/dist-packages/sklearn/neural_network/_multilayer_perceptron.py:571: ConvergenceWarning: Stochastic Optimizer: Maximum iterations (200) reached and the optimization hasn't converged yet.\n",
            "  % self.max_iter, ConvergenceWarning)\n",
            "/usr/local/lib/python3.7/dist-packages/sklearn/neural_network/_multilayer_perceptron.py:571: ConvergenceWarning: Stochastic Optimizer: Maximum iterations (200) reached and the optimization hasn't converged yet.\n",
            "  % self.max_iter, ConvergenceWarning)\n",
            "/usr/local/lib/python3.7/dist-packages/sklearn/neural_network/_multilayer_perceptron.py:571: ConvergenceWarning: Stochastic Optimizer: Maximum iterations (200) reached and the optimization hasn't converged yet.\n",
            "  % self.max_iter, ConvergenceWarning)\n",
            "/usr/local/lib/python3.7/dist-packages/sklearn/neural_network/_multilayer_perceptron.py:571: ConvergenceWarning: Stochastic Optimizer: Maximum iterations (200) reached and the optimization hasn't converged yet.\n",
            "  % self.max_iter, ConvergenceWarning)\n",
            "/usr/local/lib/python3.7/dist-packages/sklearn/neural_network/_multilayer_perceptron.py:571: ConvergenceWarning: Stochastic Optimizer: Maximum iterations (200) reached and the optimization hasn't converged yet.\n",
            "  % self.max_iter, ConvergenceWarning)\n",
            "/usr/local/lib/python3.7/dist-packages/sklearn/neural_network/_multilayer_perceptron.py:571: ConvergenceWarning: Stochastic Optimizer: Maximum iterations (200) reached and the optimization hasn't converged yet.\n",
            "  % self.max_iter, ConvergenceWarning)\n",
            "/usr/local/lib/python3.7/dist-packages/sklearn/neural_network/_multilayer_perceptron.py:571: ConvergenceWarning: Stochastic Optimizer: Maximum iterations (200) reached and the optimization hasn't converged yet.\n",
            "  % self.max_iter, ConvergenceWarning)\n",
            "/usr/local/lib/python3.7/dist-packages/sklearn/neural_network/_multilayer_perceptron.py:571: ConvergenceWarning: Stochastic Optimizer: Maximum iterations (200) reached and the optimization hasn't converged yet.\n",
            "  % self.max_iter, ConvergenceWarning)\n",
            "/usr/local/lib/python3.7/dist-packages/sklearn/neural_network/_multilayer_perceptron.py:571: ConvergenceWarning: Stochastic Optimizer: Maximum iterations (200) reached and the optimization hasn't converged yet.\n",
            "  % self.max_iter, ConvergenceWarning)\n",
            "/usr/local/lib/python3.7/dist-packages/sklearn/neural_network/_multilayer_perceptron.py:571: ConvergenceWarning: Stochastic Optimizer: Maximum iterations (200) reached and the optimization hasn't converged yet.\n",
            "  % self.max_iter, ConvergenceWarning)\n",
            "/usr/local/lib/python3.7/dist-packages/sklearn/neural_network/_multilayer_perceptron.py:571: ConvergenceWarning: Stochastic Optimizer: Maximum iterations (200) reached and the optimization hasn't converged yet.\n",
            "  % self.max_iter, ConvergenceWarning)\n",
            "/usr/local/lib/python3.7/dist-packages/sklearn/neural_network/_multilayer_perceptron.py:571: ConvergenceWarning: Stochastic Optimizer: Maximum iterations (200) reached and the optimization hasn't converged yet.\n",
            "  % self.max_iter, ConvergenceWarning)\n",
            "/usr/local/lib/python3.7/dist-packages/sklearn/neural_network/_multilayer_perceptron.py:571: ConvergenceWarning: Stochastic Optimizer: Maximum iterations (200) reached and the optimization hasn't converged yet.\n",
            "  % self.max_iter, ConvergenceWarning)\n",
            "/usr/local/lib/python3.7/dist-packages/sklearn/neural_network/_multilayer_perceptron.py:571: ConvergenceWarning: Stochastic Optimizer: Maximum iterations (200) reached and the optimization hasn't converged yet.\n",
            "  % self.max_iter, ConvergenceWarning)\n",
            "/usr/local/lib/python3.7/dist-packages/sklearn/neural_network/_multilayer_perceptron.py:571: ConvergenceWarning: Stochastic Optimizer: Maximum iterations (200) reached and the optimization hasn't converged yet.\n",
            "  % self.max_iter, ConvergenceWarning)\n",
            "/usr/local/lib/python3.7/dist-packages/sklearn/neural_network/_multilayer_perceptron.py:571: ConvergenceWarning: Stochastic Optimizer: Maximum iterations (200) reached and the optimization hasn't converged yet.\n",
            "  % self.max_iter, ConvergenceWarning)\n",
            "/usr/local/lib/python3.7/dist-packages/sklearn/neural_network/_multilayer_perceptron.py:571: ConvergenceWarning: Stochastic Optimizer: Maximum iterations (200) reached and the optimization hasn't converged yet.\n",
            "  % self.max_iter, ConvergenceWarning)\n",
            "/usr/local/lib/python3.7/dist-packages/sklearn/neural_network/_multilayer_perceptron.py:571: ConvergenceWarning: Stochastic Optimizer: Maximum iterations (200) reached and the optimization hasn't converged yet.\n",
            "  % self.max_iter, ConvergenceWarning)\n",
            "/usr/local/lib/python3.7/dist-packages/sklearn/neural_network/_multilayer_perceptron.py:571: ConvergenceWarning: Stochastic Optimizer: Maximum iterations (200) reached and the optimization hasn't converged yet.\n",
            "  % self.max_iter, ConvergenceWarning)\n",
            "/usr/local/lib/python3.7/dist-packages/sklearn/neural_network/_multilayer_perceptron.py:571: ConvergenceWarning: Stochastic Optimizer: Maximum iterations (200) reached and the optimization hasn't converged yet.\n",
            "  % self.max_iter, ConvergenceWarning)\n",
            "/usr/local/lib/python3.7/dist-packages/sklearn/neural_network/_multilayer_perceptron.py:571: ConvergenceWarning: Stochastic Optimizer: Maximum iterations (200) reached and the optimization hasn't converged yet.\n",
            "  % self.max_iter, ConvergenceWarning)\n",
            "/usr/local/lib/python3.7/dist-packages/sklearn/neural_network/_multilayer_perceptron.py:571: ConvergenceWarning: Stochastic Optimizer: Maximum iterations (200) reached and the optimization hasn't converged yet.\n",
            "  % self.max_iter, ConvergenceWarning)\n",
            "/usr/local/lib/python3.7/dist-packages/sklearn/neural_network/_multilayer_perceptron.py:571: ConvergenceWarning: Stochastic Optimizer: Maximum iterations (200) reached and the optimization hasn't converged yet.\n",
            "  % self.max_iter, ConvergenceWarning)\n",
            "/usr/local/lib/python3.7/dist-packages/sklearn/neural_network/_multilayer_perceptron.py:571: ConvergenceWarning: Stochastic Optimizer: Maximum iterations (200) reached and the optimization hasn't converged yet.\n",
            "  % self.max_iter, ConvergenceWarning)\n",
            "/usr/local/lib/python3.7/dist-packages/sklearn/neural_network/_multilayer_perceptron.py:571: ConvergenceWarning: Stochastic Optimizer: Maximum iterations (200) reached and the optimization hasn't converged yet.\n",
            "  % self.max_iter, ConvergenceWarning)\n",
            "/usr/local/lib/python3.7/dist-packages/sklearn/neural_network/_multilayer_perceptron.py:571: ConvergenceWarning: Stochastic Optimizer: Maximum iterations (200) reached and the optimization hasn't converged yet.\n",
            "  % self.max_iter, ConvergenceWarning)\n",
            "/usr/local/lib/python3.7/dist-packages/sklearn/neural_network/_multilayer_perceptron.py:571: ConvergenceWarning: Stochastic Optimizer: Maximum iterations (200) reached and the optimization hasn't converged yet.\n",
            "  % self.max_iter, ConvergenceWarning)\n"
          ],
          "name": "stderr"
        },
        {
          "output_type": "stream",
          "text": [
            "\n",
            "\n",
            "Best model: hidden layers = 3, neurons = 23, learning rate = constant, activation function = relu, MAE = 34.71274962659654\n"
          ],
          "name": "stdout"
        },
        {
          "output_type": "stream",
          "text": [
            "/usr/local/lib/python3.7/dist-packages/sklearn/neural_network/_multilayer_perceptron.py:571: ConvergenceWarning: Stochastic Optimizer: Maximum iterations (200) reached and the optimization hasn't converged yet.\n",
            "  % self.max_iter, ConvergenceWarning)\n"
          ],
          "name": "stderr"
        }
      ]
    },
    {
      "cell_type": "code",
      "metadata": {
        "id": "cNuRFZTNiT6k"
      },
      "source": [
        ""
      ],
      "execution_count": null,
      "outputs": []
    }
  ]
}